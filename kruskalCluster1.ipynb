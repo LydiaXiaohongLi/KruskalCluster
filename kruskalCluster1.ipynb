{
 "cells": [
  {
   "cell_type": "code",
   "execution_count": 65,
   "metadata": {},
   "outputs": [],
   "source": [
    "import copy\n",
    "with open(r'Data\\clustering1.txt','r') as f:\n",
    "    edgelist=f.readlines()\n",
    "edgelist = [(x.split()[0],x.split()[1],int(x.split()[2])) for x in edgelist[1:] ]\n"
   ]
  },
  {
   "cell_type": "code",
   "execution_count": 66,
   "metadata": {},
   "outputs": [],
   "source": [
    "class KruskalCluster (object):\n",
    "    def __init__(self, edgelist, k):\n",
    "        #get the set of all nodes, content as node label\n",
    "        self.nodeset=set([x[0] for x in edgelist]).union(set([x[1] for x in edgelist]))\n",
    "        #nodedict stores the node label to node index mapping (node index is used to locate node leader node in union find stucture)\n",
    "        self.nodedict={}\n",
    "        index=0\n",
    "        for node in self.nodeset:\n",
    "            self.nodedict[node]=index\n",
    "            index=index+1\n",
    "        #clusterlist is the union find structure (underlying as an array), that stores the all nodes' leader node. \n",
    "        #index of the clusterlist is the node index, referenced in nodedict\n",
    "        #content of the clusterlist is the node leader node, and node rank\n",
    "        self.clusterlist= [None]*(len(self.nodedict)*2)\n",
    "        for node in self.nodedict:\n",
    "            #stores the leader node, initialize to itself\n",
    "            self.clusterlist[self.nodedict[node]*2]=self.nodedict[node]\n",
    "            #stores the node rank, intialize to 0\n",
    "            self.clusterlist[self.nodedict[node]*2+1]=0\n",
    "        #initialize with number of clusters\n",
    "        self.k=k\n",
    "        #initialize current number of clusters to number of node\n",
    "        self.c=len(self.nodedict)\n",
    "        #intialize and sort the edgelist\n",
    "        self.edgelist=copy.deepcopy(edgelist)\n",
    "        self.edgelist=sorted(self.edgelist, key=lambda x: x[2])\n",
    "        #initialize the current minimum edge to the first one\n",
    "        self.edgeProcessInd=0\n",
    "    def find(self, node):\n",
    "        #get the node's index\n",
    "        currentnodeindex=self.nodedict[node]\n",
    "        #find the node's parent node, until node = node parent node, means we found the root\n",
    "        while self.clusterlist[currentnodeindex*2] != currentnodeindex:\n",
    "            currentnodeindex=self.clusterlist[currentnodeindex*2]\n",
    "        #path compression implementation, update the node's parent node directly to the root. Here ignore potential leader node rank change\n",
    "        self.clusterlist[self.nodedict[node]*2]=currentnodeindex\n",
    "        return currentnodeindex\n",
    "    def union(self, node1, node2):\n",
    "        node1leadernodeindex=self.find(node1)\n",
    "        node2leadernodeindex=self.find(node2)\n",
    "        #if node1's leader node rank >= node2's leader node rank, update node2's leader node's leader to node1's leader node\n",
    "        if self.clusterlist[2*node1leadernodeindex+1] >= self.clusterlist[2*node2leadernodeindex+1]:\n",
    "            self.clusterlist[2*node2leadernodeindex]=node1leadernodeindex\n",
    "            #if node1's leader node rank = node2's leader node rank, update node1's leader node's rank to increase by 1\n",
    "            if self.clusterlist[2*node1leadernodeindex+1] == self.clusterlist[2*node2leadernodeindex+1]:\n",
    "                self.clusterlist[2*node1leadernodeindex+1] = self.clusterlist[2*node1leadernodeindex+1] +1\n",
    "        #if node1's leader node rank < node2's leader node rank, update node1's leader node's leader to node2's leader node\n",
    "        else:\n",
    "            self.clusterlist[2*node1leadernodeindex]=node2leadernodeindex\n",
    "    def cluster(self):\n",
    "        for i in range(self.c, self.k, -1):\n",
    "            mergedTwoCluster=False\n",
    "            #while the current edge belongs to the same cluster, proceed to next edge, until the edge belongs to different cluster\n",
    "            while mergedTwoCluster== False:\n",
    "                #if the two vertices of the current edge belongs to two different cluster, then union the two clusters of the two vertices\n",
    "                if self.find(self.edgelist[self.edgeProcessInd][0]) != self.find(self.edgelist[self.edgeProcessInd][1]):\n",
    "                    self.union(self.edgelist[self.edgeProcessInd][0],self.edgelist[self.edgeProcessInd][1])\n",
    "                    mergedTwoCluster=True\n",
    "                    self.edgeProcessInd=self.edgeProcessInd+1\n",
    "                else:\n",
    "                    self.edgeProcessInd=self.edgeProcessInd+1\n",
    "    def get_spacing(self):\n",
    "        #find the next edge cost, whose vertices doesnt belong to the same cluster\n",
    "        mergedTwoCluster=False\n",
    "        #while the current edge belongs to the same cluster, proceed to next edge, until the edge belongs to different cluster\n",
    "        while mergedTwoCluster== False:\n",
    "            #if the two vertices of the current edge belongs to two different cluster\n",
    "            if self.find(self.edgelist[self.edgeProcessInd][0]) != self.find(self.edgelist[self.edgeProcessInd][1]):\n",
    "                mergedTwoCluster=True\n",
    "                self.edgeProcessInd=self.edgeProcessInd+1\n",
    "            else:\n",
    "                self.edgeProcessInd=self.edgeProcessInd+1        \n",
    "        return self.edgelist[self.edgeProcessInd-1][2]\n",
    "            \n",
    "        "
   ]
  },
  {
   "cell_type": "code",
   "execution_count": 67,
   "metadata": {},
   "outputs": [
    {
     "data": {
      "text/plain": [
       "90"
      ]
     },
     "execution_count": 67,
     "metadata": {},
     "output_type": "execute_result"
    }
   ],
   "source": [
    "kruskal=KruskalCluster(edgelist, 4)\n",
    "kruskal.cluster()\n",
    "kruskal.get_spacing()"
   ]
  },
  {
   "cell_type": "code",
   "execution_count": null,
   "metadata": {},
   "outputs": [],
   "source": [
    "#Tested"
   ]
  }
 ],
 "metadata": {
  "kernelspec": {
   "display_name": "Python 3",
   "language": "python",
   "name": "python3"
  },
  "language_info": {
   "codemirror_mode": {
    "name": "ipython",
    "version": 3
   },
   "file_extension": ".py",
   "mimetype": "text/x-python",
   "name": "python",
   "nbconvert_exporter": "python",
   "pygments_lexer": "ipython3",
   "version": "3.6.4"
  }
 },
 "nbformat": 4,
 "nbformat_minor": 2
}
